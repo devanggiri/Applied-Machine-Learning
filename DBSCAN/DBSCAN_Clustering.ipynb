{
  "cells": [
    {
      "cell_type": "markdown",
      "metadata": {
        "id": "tdxOQL-RSp4P"
      },
      "source": [
        "# DBSCAN"
      ]
    },
    {
      "cell_type": "markdown",
      "metadata": {
        "id": "qk_w1QHsVu5E"
      },
      "source": [
        "Import necessary libraries\n"
      ]
    },
    {
      "cell_type": "code",
      "execution_count": 1,
      "metadata": {
        "execution": {
          "iopub.execute_input": "2022-02-13T15:30:55.447414Z",
          "iopub.status.busy": "2022-02-13T15:30:55.446785Z",
          "iopub.status.idle": "2022-02-13T15:30:55.458172Z",
          "shell.execute_reply": "2022-02-13T15:30:55.457180Z",
          "shell.execute_reply.started": "2022-02-13T15:30:55.447371Z"
        },
        "id": "k1_0Z6aoSmPQ",
        "trusted": true
      },
      "outputs": [],
      "source": [
        "import numpy as np\n",
        "import pandas as pd\n",
        "import matplotlib.pyplot as plt\n",
        "import seaborn as sns\n",
        "from sklearn.model_selection import train_test_split\n",
        "from sklearn.preprocessing import StandardScaler\n",
        "from sklearn.cluster import KMeans\n",
        "from sklearn.metrics import accuracy_score, confusion_matrix, classification_report, confusion_matrix\n",
        "from sklearn.metrics import precision_recall_curve, precision_recall_curve, roc_curve\n",
        "from sklearn.model_selection import GridSearchCV\n",
        "from sklearn.model_selection import cross_val_score\n",
        "from sklearn import metrics"
      ]
    },
    {
      "cell_type": "markdown",
      "metadata": {
        "id": "c5TS1G_kSmPR"
      },
      "source": [
        "# Import and print the dataset"
      ]
    },
    {
      "cell_type": "code",
      "execution_count": 2,
      "metadata": {
        "execution": {
          "iopub.execute_input": "2022-02-13T15:30:55.461230Z",
          "iopub.status.busy": "2022-02-13T15:30:55.460031Z",
          "iopub.status.idle": "2022-02-13T15:30:55.479362Z",
          "shell.execute_reply": "2022-02-13T15:30:55.477939Z",
          "shell.execute_reply.started": "2022-02-13T15:30:55.461169Z"
        },
        "id": "QktxvpfeSmPS",
        "trusted": true
      },
      "outputs": [],
      "source": [
        "df=pd.read_csv('Mall_Customers.csv')"
      ]
    },
    {
      "cell_type": "code",
      "execution_count": 3,
      "metadata": {
        "colab": {
          "base_uri": "https://localhost:8080/",
          "height": 206
        },
        "execution": {
          "iopub.execute_input": "2022-02-13T15:30:55.482053Z",
          "iopub.status.busy": "2022-02-13T15:30:55.481212Z",
          "iopub.status.idle": "2022-02-13T15:30:55.495506Z",
          "shell.execute_reply": "2022-02-13T15:30:55.494361Z",
          "shell.execute_reply.started": "2022-02-13T15:30:55.482008Z"
        },
        "id": "ef6DVHTWSmPS",
        "outputId": "34dfa9d6-e2c4-4238-c2b7-0f24b69176c6",
        "trusted": true
      },
      "outputs": [
        {
          "data": {
            "text/html": [
              "<div>\n",
              "<style scoped>\n",
              "    .dataframe tbody tr th:only-of-type {\n",
              "        vertical-align: middle;\n",
              "    }\n",
              "\n",
              "    .dataframe tbody tr th {\n",
              "        vertical-align: top;\n",
              "    }\n",
              "\n",
              "    .dataframe thead th {\n",
              "        text-align: right;\n",
              "    }\n",
              "</style>\n",
              "<table border=\"1\" class=\"dataframe\">\n",
              "  <thead>\n",
              "    <tr style=\"text-align: right;\">\n",
              "      <th></th>\n",
              "      <th>CustomerID</th>\n",
              "      <th>Gender</th>\n",
              "      <th>Age</th>\n",
              "      <th>Annual Income (k$)</th>\n",
              "      <th>Spending Score (1-100)</th>\n",
              "    </tr>\n",
              "  </thead>\n",
              "  <tbody>\n",
              "    <tr>\n",
              "      <th>0</th>\n",
              "      <td>1</td>\n",
              "      <td>Male</td>\n",
              "      <td>19</td>\n",
              "      <td>15</td>\n",
              "      <td>39</td>\n",
              "    </tr>\n",
              "    <tr>\n",
              "      <th>1</th>\n",
              "      <td>2</td>\n",
              "      <td>Male</td>\n",
              "      <td>21</td>\n",
              "      <td>15</td>\n",
              "      <td>81</td>\n",
              "    </tr>\n",
              "    <tr>\n",
              "      <th>2</th>\n",
              "      <td>3</td>\n",
              "      <td>Female</td>\n",
              "      <td>20</td>\n",
              "      <td>16</td>\n",
              "      <td>6</td>\n",
              "    </tr>\n",
              "    <tr>\n",
              "      <th>3</th>\n",
              "      <td>4</td>\n",
              "      <td>Female</td>\n",
              "      <td>23</td>\n",
              "      <td>16</td>\n",
              "      <td>77</td>\n",
              "    </tr>\n",
              "    <tr>\n",
              "      <th>4</th>\n",
              "      <td>5</td>\n",
              "      <td>Female</td>\n",
              "      <td>31</td>\n",
              "      <td>17</td>\n",
              "      <td>40</td>\n",
              "    </tr>\n",
              "  </tbody>\n",
              "</table>\n",
              "</div>"
            ],
            "text/plain": [
              "   CustomerID  Gender  Age  Annual Income (k$)  Spending Score (1-100)\n",
              "0           1    Male   19                  15                      39\n",
              "1           2    Male   21                  15                      81\n",
              "2           3  Female   20                  16                       6\n",
              "3           4  Female   23                  16                      77\n",
              "4           5  Female   31                  17                      40"
            ]
          },
          "execution_count": 3,
          "metadata": {},
          "output_type": "execute_result"
        }
      ],
      "source": [
        "df.head()"
      ]
    },
    {
      "cell_type": "markdown",
      "metadata": {
        "id": "EbyVa8x_SmPS"
      },
      "source": [
        "# Exploratory Data Analysis"
      ]
    },
    {
      "cell_type": "code",
      "execution_count": 4,
      "metadata": {
        "colab": {
          "base_uri": "https://localhost:8080/"
        },
        "execution": {
          "iopub.execute_input": "2022-02-13T15:30:55.497284Z",
          "iopub.status.busy": "2022-02-13T15:30:55.496890Z",
          "iopub.status.idle": "2022-02-13T15:30:55.519518Z",
          "shell.execute_reply": "2022-02-13T15:30:55.518437Z",
          "shell.execute_reply.started": "2022-02-13T15:30:55.497250Z"
        },
        "id": "aTaL5MgRSmPT",
        "outputId": "362da59d-56f7-4b82-cbfb-4d73294c5a1a",
        "trusted": true
      },
      "outputs": [
        {
          "name": "stdout",
          "output_type": "stream",
          "text": [
            "<class 'pandas.core.frame.DataFrame'>\n",
            "RangeIndex: 200 entries, 0 to 199\n",
            "Data columns (total 5 columns):\n",
            " #   Column                  Non-Null Count  Dtype \n",
            "---  ------                  --------------  ----- \n",
            " 0   CustomerID              200 non-null    int64 \n",
            " 1   Gender                  200 non-null    object\n",
            " 2   Age                     200 non-null    int64 \n",
            " 3   Annual Income (k$)      200 non-null    int64 \n",
            " 4   Spending Score (1-100)  200 non-null    int64 \n",
            "dtypes: int64(4), object(1)\n",
            "memory usage: 7.9+ KB\n"
          ]
        }
      ],
      "source": [
        "df.info()"
      ]
    },
    {
      "cell_type": "code",
      "execution_count": 5,
      "metadata": {
        "colab": {
          "base_uri": "https://localhost:8080/",
          "height": 300
        },
        "execution": {
          "iopub.execute_input": "2022-02-13T15:30:55.522468Z",
          "iopub.status.busy": "2022-02-13T15:30:55.521889Z",
          "iopub.status.idle": "2022-02-13T15:30:55.548271Z",
          "shell.execute_reply": "2022-02-13T15:30:55.547355Z",
          "shell.execute_reply.started": "2022-02-13T15:30:55.522422Z"
        },
        "id": "iyVn7YBHSmPT",
        "outputId": "32cd561f-fd18-4e2b-e681-16a6fdb338b7",
        "trusted": true
      },
      "outputs": [
        {
          "data": {
            "text/html": [
              "<div>\n",
              "<style scoped>\n",
              "    .dataframe tbody tr th:only-of-type {\n",
              "        vertical-align: middle;\n",
              "    }\n",
              "\n",
              "    .dataframe tbody tr th {\n",
              "        vertical-align: top;\n",
              "    }\n",
              "\n",
              "    .dataframe thead th {\n",
              "        text-align: right;\n",
              "    }\n",
              "</style>\n",
              "<table border=\"1\" class=\"dataframe\">\n",
              "  <thead>\n",
              "    <tr style=\"text-align: right;\">\n",
              "      <th></th>\n",
              "      <th>CustomerID</th>\n",
              "      <th>Age</th>\n",
              "      <th>Annual Income (k$)</th>\n",
              "      <th>Spending Score (1-100)</th>\n",
              "    </tr>\n",
              "  </thead>\n",
              "  <tbody>\n",
              "    <tr>\n",
              "      <th>count</th>\n",
              "      <td>200.000000</td>\n",
              "      <td>200.000000</td>\n",
              "      <td>200.000000</td>\n",
              "      <td>200.000000</td>\n",
              "    </tr>\n",
              "    <tr>\n",
              "      <th>mean</th>\n",
              "      <td>100.500000</td>\n",
              "      <td>38.850000</td>\n",
              "      <td>60.560000</td>\n",
              "      <td>50.200000</td>\n",
              "    </tr>\n",
              "    <tr>\n",
              "      <th>std</th>\n",
              "      <td>57.879185</td>\n",
              "      <td>13.969007</td>\n",
              "      <td>26.264721</td>\n",
              "      <td>25.823522</td>\n",
              "    </tr>\n",
              "    <tr>\n",
              "      <th>min</th>\n",
              "      <td>1.000000</td>\n",
              "      <td>18.000000</td>\n",
              "      <td>15.000000</td>\n",
              "      <td>1.000000</td>\n",
              "    </tr>\n",
              "    <tr>\n",
              "      <th>25%</th>\n",
              "      <td>50.750000</td>\n",
              "      <td>28.750000</td>\n",
              "      <td>41.500000</td>\n",
              "      <td>34.750000</td>\n",
              "    </tr>\n",
              "    <tr>\n",
              "      <th>50%</th>\n",
              "      <td>100.500000</td>\n",
              "      <td>36.000000</td>\n",
              "      <td>61.500000</td>\n",
              "      <td>50.000000</td>\n",
              "    </tr>\n",
              "    <tr>\n",
              "      <th>75%</th>\n",
              "      <td>150.250000</td>\n",
              "      <td>49.000000</td>\n",
              "      <td>78.000000</td>\n",
              "      <td>73.000000</td>\n",
              "    </tr>\n",
              "    <tr>\n",
              "      <th>max</th>\n",
              "      <td>200.000000</td>\n",
              "      <td>70.000000</td>\n",
              "      <td>137.000000</td>\n",
              "      <td>99.000000</td>\n",
              "    </tr>\n",
              "  </tbody>\n",
              "</table>\n",
              "</div>"
            ],
            "text/plain": [
              "       CustomerID         Age  Annual Income (k$)  Spending Score (1-100)\n",
              "count  200.000000  200.000000          200.000000              200.000000\n",
              "mean   100.500000   38.850000           60.560000               50.200000\n",
              "std     57.879185   13.969007           26.264721               25.823522\n",
              "min      1.000000   18.000000           15.000000                1.000000\n",
              "25%     50.750000   28.750000           41.500000               34.750000\n",
              "50%    100.500000   36.000000           61.500000               50.000000\n",
              "75%    150.250000   49.000000           78.000000               73.000000\n",
              "max    200.000000   70.000000          137.000000               99.000000"
            ]
          },
          "execution_count": 5,
          "metadata": {},
          "output_type": "execute_result"
        }
      ],
      "source": [
        "df.describe()"
      ]
    },
    {
      "cell_type": "code",
      "execution_count": 6,
      "metadata": {
        "colab": {
          "base_uri": "https://localhost:8080/"
        },
        "execution": {
          "iopub.execute_input": "2022-02-13T15:30:55.550202Z",
          "iopub.status.busy": "2022-02-13T15:30:55.549921Z",
          "iopub.status.idle": "2022-02-13T15:30:55.556092Z",
          "shell.execute_reply": "2022-02-13T15:30:55.555271Z",
          "shell.execute_reply.started": "2022-02-13T15:30:55.550163Z"
        },
        "id": "aM2Pj1YTSmPT",
        "outputId": "1d4a55dd-64f7-4569-b7ac-f5309344abd4",
        "trusted": true
      },
      "outputs": [
        {
          "data": {
            "text/plain": [
              "(200, 5)"
            ]
          },
          "execution_count": 6,
          "metadata": {},
          "output_type": "execute_result"
        }
      ],
      "source": [
        "df.shape"
      ]
    },
    {
      "cell_type": "code",
      "execution_count": 7,
      "metadata": {
        "execution": {
          "iopub.execute_input": "2022-02-13T15:30:55.557963Z",
          "iopub.status.busy": "2022-02-13T15:30:55.557278Z",
          "iopub.status.idle": "2022-02-13T15:30:55.570328Z",
          "shell.execute_reply": "2022-02-13T15:30:55.569226Z",
          "shell.execute_reply.started": "2022-02-13T15:30:55.557914Z"
        },
        "id": "2WtphelfSmPU",
        "trusted": true
      },
      "outputs": [],
      "source": [
        "df.drop(['CustomerID','Gender','Age'],axis=1,inplace=True)"
      ]
    },
    {
      "cell_type": "code",
      "execution_count": 8,
      "metadata": {
        "colab": {
          "base_uri": "https://localhost:8080/",
          "height": 206
        },
        "execution": {
          "iopub.execute_input": "2022-02-13T15:30:55.684764Z",
          "iopub.status.busy": "2022-02-13T15:30:55.683778Z",
          "iopub.status.idle": "2022-02-13T15:30:55.695783Z",
          "shell.execute_reply": "2022-02-13T15:30:55.694910Z",
          "shell.execute_reply.started": "2022-02-13T15:30:55.684707Z"
        },
        "id": "pHogCdR_SmPU",
        "outputId": "eefe6a04-39f8-4a65-ec08-3299af8e6779",
        "trusted": true
      },
      "outputs": [
        {
          "data": {
            "text/html": [
              "<div>\n",
              "<style scoped>\n",
              "    .dataframe tbody tr th:only-of-type {\n",
              "        vertical-align: middle;\n",
              "    }\n",
              "\n",
              "    .dataframe tbody tr th {\n",
              "        vertical-align: top;\n",
              "    }\n",
              "\n",
              "    .dataframe thead th {\n",
              "        text-align: right;\n",
              "    }\n",
              "</style>\n",
              "<table border=\"1\" class=\"dataframe\">\n",
              "  <thead>\n",
              "    <tr style=\"text-align: right;\">\n",
              "      <th></th>\n",
              "      <th>Annual Income (k$)</th>\n",
              "      <th>Spending Score (1-100)</th>\n",
              "    </tr>\n",
              "  </thead>\n",
              "  <tbody>\n",
              "    <tr>\n",
              "      <th>0</th>\n",
              "      <td>15</td>\n",
              "      <td>39</td>\n",
              "    </tr>\n",
              "    <tr>\n",
              "      <th>1</th>\n",
              "      <td>15</td>\n",
              "      <td>81</td>\n",
              "    </tr>\n",
              "    <tr>\n",
              "      <th>2</th>\n",
              "      <td>16</td>\n",
              "      <td>6</td>\n",
              "    </tr>\n",
              "    <tr>\n",
              "      <th>3</th>\n",
              "      <td>16</td>\n",
              "      <td>77</td>\n",
              "    </tr>\n",
              "    <tr>\n",
              "      <th>4</th>\n",
              "      <td>17</td>\n",
              "      <td>40</td>\n",
              "    </tr>\n",
              "  </tbody>\n",
              "</table>\n",
              "</div>"
            ],
            "text/plain": [
              "   Annual Income (k$)  Spending Score (1-100)\n",
              "0                  15                      39\n",
              "1                  15                      81\n",
              "2                  16                       6\n",
              "3                  16                      77\n",
              "4                  17                      40"
            ]
          },
          "execution_count": 8,
          "metadata": {},
          "output_type": "execute_result"
        }
      ],
      "source": [
        "df.head()"
      ]
    },
    {
      "cell_type": "code",
      "execution_count": 9,
      "metadata": {
        "colab": {
          "base_uri": "https://localhost:8080/"
        },
        "execution": {
          "iopub.execute_input": "2022-02-13T15:30:55.698564Z",
          "iopub.status.busy": "2022-02-13T15:30:55.697713Z",
          "iopub.status.idle": "2022-02-13T15:30:55.707388Z",
          "shell.execute_reply": "2022-02-13T15:30:55.706261Z",
          "shell.execute_reply.started": "2022-02-13T15:30:55.698516Z"
        },
        "id": "KaUZyLhmSmPU",
        "outputId": "99b2d264-8a9b-499e-d529-4b7b124710c6",
        "trusted": true
      },
      "outputs": [
        {
          "name": "stdout",
          "output_type": "stream",
          "text": [
            "Annual Income [ 15  16  17  18  19  20  21  23  24  25  28  29  30  33  34  37  38  39\n",
            "  40  42  43  44  46  47  48  49  50  54  57  58  59  60  61  62  63  64\n",
            "  65  67  69  70  71  72  73  74  75  76  77  78  79  81  85  86  87  88\n",
            "  93  97  98  99 101 103 113 120 126 137]\n",
            "Spending Score [39 81  6 77 40 76 94  3 72 14 99 15 13 79 35 66 29 98 73  5 82 32 61 31\n",
            " 87  4 92 17 26 75 36 28 65 55 47 42 52 60 54 45 41 50 46 51 56 59 48 49\n",
            " 53 44 57 58 43 91 95 11  9 34 71 88  7 10 93 12 97 74 22 90 20 16 89  1\n",
            " 78 83 27 63 86 69 24 68 85 23  8 18]\n"
          ]
        }
      ],
      "source": [
        "print('Annual Income',df['Annual Income (k$)'].unique())\n",
        "print('Spending Score',df['Spending Score (1-100)'].unique())"
      ]
    },
    {
      "cell_type": "markdown",
      "metadata": {
        "id": "KP7aiYKlV6Rk"
      },
      "source": [
        "# Visualize count distribution of 'Annual Income'"
      ]
    },
    {
      "cell_type": "code",
      "execution_count": 10,
      "metadata": {
        "colab": {
          "base_uri": "https://localhost:8080/",
          "height": 507
        },
        "execution": {
          "iopub.execute_input": "2022-02-13T15:30:55.709351Z",
          "iopub.status.busy": "2022-02-13T15:30:55.709005Z",
          "iopub.status.idle": "2022-02-13T15:30:56.610252Z",
          "shell.execute_reply": "2022-02-13T15:30:56.609552Z",
          "shell.execute_reply.started": "2022-02-13T15:30:55.709294Z"
        },
        "id": "UR68IS_JSmPU",
        "outputId": "fad41c94-7104-4c75-aa81-42df7ccc2f20",
        "trusted": true
      },
      "outputs": [
        {
          "data": {
            "image/png": "[encoded data removed]",
            "text/plain": [
              "<Figure size 1728x432 with 1 Axes>"
            ]
          },
          "metadata": {
            "needs_background": "light"
          },
          "output_type": "display_data"
        }
      ],
      "source": [
        "plt.figure(figsize=(24, 6))  # Set the width and height\n",
        "sns.countplot(data=df, x='Annual Income (k$)')\n",
        "plt.show()"
      ]
    },
    {
      "cell_type": "markdown",
      "metadata": {
        "id": "pxE4DVyLV9GC"
      },
      "source": [
        "# Visualize count distribution of 'Spending Score'"
      ]
    },
    {
      "cell_type": "code",
      "execution_count": 11,
      "metadata": {
        "colab": {
          "base_uri": "https://localhost:8080/",
          "height": 509
        },
        "id": "rpye8ZFAUd1x",
        "outputId": "3b8f9fa3-d5b0-427c-d3e1-be83f8e0bec7"
      },
      "outputs": [
        {
          "data": {
            "image/png": "[encoded data removed]",
            "text/plain": [
              "<Figure size 1728x432 with 1 Axes>"
            ]
          },
          "metadata": {
            "needs_background": "light"
          },
          "output_type": "display_data"
        }
      ],
      "source": [
        "plt.figure(figsize=(24, 6))  # Set the width and height\n",
        "sns.countplot(data=df, x='Spending Score (1-100)')\n",
        "plt.show()"
      ]
    },
    {
      "cell_type": "markdown",
      "metadata": {
        "id": "eOB08CcTWA4i"
      },
      "source": [
        "# Check for missing values in the dataset"
      ]
    },
    {
      "cell_type": "code",
      "execution_count": 12,
      "metadata": {
        "colab": {
          "base_uri": "https://localhost:8080/"
        },
        "execution": {
          "iopub.execute_input": "2022-02-13T15:30:57.795721Z",
          "iopub.status.busy": "2022-02-13T15:30:57.795449Z",
          "iopub.status.idle": "2022-02-13T15:30:57.804714Z",
          "shell.execute_reply": "2022-02-13T15:30:57.803684Z",
          "shell.execute_reply.started": "2022-02-13T15:30:57.795686Z"
        },
        "id": "R6eviDuHSmPV",
        "outputId": "dc0c1ea3-e157-4049-b99e-764f01b822e0",
        "trusted": true
      },
      "outputs": [
        {
          "data": {
            "text/plain": [
              "0"
            ]
          },
          "execution_count": 12,
          "metadata": {},
          "output_type": "execute_result"
        }
      ],
      "source": [
        "df.isnull().sum().sum()"
      ]
    },
    {
      "cell_type": "markdown",
      "metadata": {
        "id": "XwkIJXohWTQb"
      },
      "source": [
        "# Display correlation matrix"
      ]
    },
    {
      "cell_type": "code",
      "execution_count": 35,
      "metadata": {
        "colab": {
          "base_uri": "https://localhost:8080/",
          "height": 112
        },
        "execution": {
          "iopub.execute_input": "2022-02-13T15:30:57.807109Z",
          "iopub.status.busy": "2022-02-13T15:30:57.806760Z",
          "iopub.status.idle": "2022-02-13T15:30:57.828218Z",
          "shell.execute_reply": "2022-02-13T15:30:57.827265Z",
          "shell.execute_reply.started": "2022-02-13T15:30:57.807063Z"
        },
        "id": "cD-WsZtnSmPV",
        "outputId": "76690843-115e-436a-87ce-a2b160abf034",
        "trusted": true
      },
      "outputs": [
        {
          "data": {
            "text/html": [
              "<div>\n",
              "<style scoped>\n",
              "    .dataframe tbody tr th:only-of-type {\n",
              "        vertical-align: middle;\n",
              "    }\n",
              "\n",
              "    .dataframe tbody tr th {\n",
              "        vertical-align: top;\n",
              "    }\n",
              "\n",
              "    .dataframe thead th {\n",
              "        text-align: right;\n",
              "    }\n",
              "</style>\n",
              "<table border=\"1\" class=\"dataframe\">\n",
              "  <thead>\n",
              "    <tr style=\"text-align: right;\">\n",
              "      <th></th>\n",
              "      <th>Annual Income (k$)</th>\n",
              "      <th>Spending Score (1-100)</th>\n",
              "    </tr>\n",
              "  </thead>\n",
              "  <tbody>\n",
              "    <tr>\n",
              "      <th>0</th>\n",
              "      <td>15</td>\n",
              "      <td>39</td>\n",
              "    </tr>\n",
              "    <tr>\n",
              "      <th>1</th>\n",
              "      <td>15</td>\n",
              "      <td>81</td>\n",
              "    </tr>\n",
              "    <tr>\n",
              "      <th>2</th>\n",
              "      <td>16</td>\n",
              "      <td>6</td>\n",
              "    </tr>\n",
              "    <tr>\n",
              "      <th>3</th>\n",
              "      <td>16</td>\n",
              "      <td>77</td>\n",
              "    </tr>\n",
              "    <tr>\n",
              "      <th>4</th>\n",
              "      <td>17</td>\n",
              "      <td>40</td>\n",
              "    </tr>\n",
              "    <tr>\n",
              "      <th>...</th>\n",
              "      <td>...</td>\n",
              "      <td>...</td>\n",
              "    </tr>\n",
              "    <tr>\n",
              "      <th>195</th>\n",
              "      <td>120</td>\n",
              "      <td>79</td>\n",
              "    </tr>\n",
              "    <tr>\n",
              "      <th>196</th>\n",
              "      <td>126</td>\n",
              "      <td>28</td>\n",
              "    </tr>\n",
              "    <tr>\n",
              "      <th>197</th>\n",
              "      <td>126</td>\n",
              "      <td>74</td>\n",
              "    </tr>\n",
              "    <tr>\n",
              "      <th>198</th>\n",
              "      <td>137</td>\n",
              "      <td>18</td>\n",
              "    </tr>\n",
              "    <tr>\n",
              "      <th>199</th>\n",
              "      <td>137</td>\n",
              "      <td>83</td>\n",
              "    </tr>\n",
              "  </tbody>\n",
              "</table>\n",
              "<p>200 rows × 2 columns</p>\n",
              "</div>"
            ],
            "text/plain": [
              "     Annual Income (k$)  Spending Score (1-100)\n",
              "0                    15                      39\n",
              "1                    15                      81\n",
              "2                    16                       6\n",
              "3                    16                      77\n",
              "4                    17                      40\n",
              "..                  ...                     ...\n",
              "195                 120                      79\n",
              "196                 126                      28\n",
              "197                 126                      74\n",
              "198                 137                      18\n",
              "199                 137                      83\n",
              "\n",
              "[200 rows x 2 columns]"
            ]
          },
          "execution_count": 35,
          "metadata": {},
          "output_type": "execute_result"
        }
      ],
      "source": [
        "df.corr()\n"
      ]
    },
    {
      "cell_type": "markdown",
      "metadata": {
        "id": "OXcF8DYvWDRq"
      },
      "source": [
        "# Visualize pairwise relationships between numerical variables"
      ]
    },
    {
      "cell_type": "code",
      "execution_count": 14,
      "metadata": {
        "colab": {
          "base_uri": "https://localhost:8080/",
          "height": 529
        },
        "execution": {
          "iopub.execute_input": "2022-02-13T15:30:57.830143Z",
          "iopub.status.busy": "2022-02-13T15:30:57.829890Z",
          "iopub.status.idle": "2022-02-13T15:30:58.906797Z",
          "shell.execute_reply": "2022-02-13T15:30:58.905765Z",
          "shell.execute_reply.started": "2022-02-13T15:30:57.830112Z"
        },
        "id": "ZsWtsDDHSmPV",
        "outputId": "fc19cc1a-4b57-4fff-b330-ca1e703915f6",
        "trusted": true
      },
      "outputs": [
        {
          "data": {
            "text/plain": [
              "<seaborn.axisgrid.PairGrid at 0x1a3fc779cc0>"
            ]
          },
          "execution_count": 14,
          "metadata": {},
          "output_type": "execute_result"
        },
        {
          "data": {
            "image/png": "[encoded data removed]",
            "text/plain": [
              "<Figure size 360x360 with 6 Axes>"
            ]
          },
          "metadata": {
            "needs_background": "light"
          },
          "output_type": "display_data"
        }
      ],
      "source": [
        "sns.pairplot(data=df)"
      ]
    },
    {
      "cell_type": "markdown",
      "metadata": {
        "id": "XwoxgZEnWIxD"
      },
      "source": [
        "# Scatter plot between 'Annual Income' and 'Spending Score'"
      ]
    },
    {
      "cell_type": "code",
      "execution_count": 38,
      "metadata": {
        "colab": {
          "base_uri": "https://localhost:8080/",
          "height": 430
        },
        "execution": {
          "iopub.execute_input": "2022-02-13T15:30:58.909318Z",
          "iopub.status.busy": "2022-02-13T15:30:58.908969Z",
          "iopub.status.idle": "2022-02-13T15:30:59.113167Z",
          "shell.execute_reply": "2022-02-13T15:30:59.112214Z",
          "shell.execute_reply.started": "2022-02-13T15:30:58.909267Z"
        },
        "id": "3XJE2oe-SmPV",
        "outputId": "f53d4925-5e4e-4e10-bbad-19c2fdaff579",
        "trusted": true
      },
      "outputs": [
        {
          "data": {
            "image/png": "[encoded data removed]",
            "text/plain": [
              "<Figure size 432x288 with 1 Axes>"
            ]
          },
          "metadata": {
            "needs_background": "light"
          },
          "output_type": "display_data"
        }
      ],
      "source": [
        "plt.scatter(df['Annual Income (k$)'],df['Spending Score (1-100)'])\n",
        "plt.xlabel(\"Annual Income\")\n",
        "plt.ylabel(\"Spending Score\")\n",
        "plt.show()"
      ]
    },
    {
      "cell_type": "markdown",
      "metadata": {
        "id": "kPQE454cSmPV"
      },
      "source": [
        "# Normalization Data"
      ]
    },
    {
      "cell_type": "code",
      "execution_count": 16,
      "metadata": {
        "colab": {
          "base_uri": "https://localhost:8080/",
          "height": 75
        },
        "execution": {
          "iopub.execute_input": "2022-02-13T15:30:59.114811Z",
          "iopub.status.busy": "2022-02-13T15:30:59.114538Z",
          "iopub.status.idle": "2022-02-13T15:30:59.124462Z",
          "shell.execute_reply": "2022-02-13T15:30:59.123621Z",
          "shell.execute_reply.started": "2022-02-13T15:30:59.114779Z"
        },
        "id": "NlaL3ixUSmPV",
        "outputId": "79ebc78c-db31-4e4b-f454-e1ee265f81f6",
        "trusted": true
      },
      "outputs": [
        {
          "data": {
            "text/html": [
              "<style>#sk-container-id-1 {color: black;background-color: white;}#sk-container-id-1 pre{padding: 0;}#sk-container-id-1 div.sk-toggleable {background-color: white;}#sk-container-id-1 label.sk-toggleable__label {cursor: pointer;display: block;width: 100%;margin-bottom: 0;padding: 0.3em;box-sizing: border-box;text-align: center;}#sk-container-id-1 label.sk-toggleable__label-arrow:before {content: \"▸\";float: left;margin-right: 0.25em;color: #696969;}#sk-container-id-1 label.sk-toggleable__label-arrow:hover:before {color: black;}#sk-container-id-1 div.sk-estimator:hover label.sk-toggleable__label-arrow:before {color: black;}#sk-container-id-1 div.sk-toggleable__content {max-height: 0;max-width: 0;overflow: hidden;text-align: left;background-color: #f0f8ff;}#sk-container-id-1 div.sk-toggleable__content pre {margin: 0.2em;color: black;border-radius: 0.25em;background-color: #f0f8ff;}#sk-container-id-1 input.sk-toggleable__control:checked~div.sk-toggleable__content {max-height: 200px;max-width: 100%;overflow: auto;}#sk-container-id-1 input.sk-toggleable__control:checked~label.sk-toggleable__label-arrow:before {content: \"▾\";}#sk-container-id-1 div.sk-estimator input.sk-toggleable__control:checked~label.sk-toggleable__label {background-color: #d4ebff;}#sk-container-id-1 div.sk-label input.sk-toggleable__control:checked~label.sk-toggleable__label {background-color: #d4ebff;}#sk-container-id-1 input.sk-hidden--visually {border: 0;clip: rect(1px 1px 1px 1px);clip: rect(1px, 1px, 1px, 1px);height: 1px;margin: -1px;overflow: hidden;padding: 0;position: absolute;width: 1px;}#sk-container-id-1 div.sk-estimator {font-family: monospace;background-color: #f0f8ff;border: 1px dotted black;border-radius: 0.25em;box-sizing: border-box;margin-bottom: 0.5em;}#sk-container-id-1 div.sk-estimator:hover {background-color: #d4ebff;}#sk-container-id-1 div.sk-parallel-item::after {content: \"\";width: 100%;border-bottom: 1px solid gray;flex-grow: 1;}#sk-container-id-1 div.sk-label:hover label.sk-toggleable__label {background-color: #d4ebff;}#sk-container-id-1 div.sk-serial::before {content: \"\";position: absolute;border-left: 1px solid gray;box-sizing: border-box;top: 0;bottom: 0;left: 50%;z-index: 0;}#sk-container-id-1 div.sk-serial {display: flex;flex-direction: column;align-items: center;background-color: white;padding-right: 0.2em;padding-left: 0.2em;position: relative;}#sk-container-id-1 div.sk-item {position: relative;z-index: 1;}#sk-container-id-1 div.sk-parallel {display: flex;align-items: stretch;justify-content: center;background-color: white;position: relative;}#sk-container-id-1 div.sk-item::before, #sk-container-id-1 div.sk-parallel-item::before {content: \"\";position: absolute;border-left: 1px solid gray;box-sizing: border-box;top: 0;bottom: 0;left: 50%;z-index: -1;}#sk-container-id-1 div.sk-parallel-item {display: flex;flex-direction: column;z-index: 1;position: relative;background-color: white;}#sk-container-id-1 div.sk-parallel-item:first-child::after {align-self: flex-end;width: 50%;}#sk-container-id-1 div.sk-parallel-item:last-child::after {align-self: flex-start;width: 50%;}#sk-container-id-1 div.sk-parallel-item:only-child::after {width: 0;}#sk-container-id-1 div.sk-dashed-wrapped {border: 1px dashed gray;margin: 0 0.4em 0.5em 0.4em;box-sizing: border-box;padding-bottom: 0.4em;background-color: white;}#sk-container-id-1 div.sk-label label {font-family: monospace;font-weight: bold;display: inline-block;line-height: 1.2em;}#sk-container-id-1 div.sk-label-container {text-align: center;}#sk-container-id-1 div.sk-container {/* jupyter's `normalize.less` sets `[hidden] { display: none; }` but bootstrap.min.css set `[hidden] { display: none !important; }` so we also need the `!important` here to be able to override the default hidden behavior on the sphinx rendered scikit-learn.org. See: https://github.com/scikit-learn/scikit-learn/issues/21755 */display: inline-block !important;position: relative;}#sk-container-id-1 div.sk-text-repr-fallback {display: none;}</style><div id=\"sk-container-id-1\" class=\"sk-top-container\"><div class=\"sk-text-repr-fallback\"><pre>StandardScaler()</pre><b>In a Jupyter environment, please rerun this cell to show the HTML representation or trust the notebook. <br />On GitHub, the HTML representation is unable to render, please try loading this page with nbviewer.org.</b></div><div class=\"sk-container\" hidden><div class=\"sk-item\"><div class=\"sk-estimator sk-toggleable\"><input class=\"sk-toggleable__control sk-hidden--visually\" id=\"sk-estimator-id-1\" type=\"checkbox\" checked><label for=\"sk-estimator-id-1\" class=\"sk-toggleable__label sk-toggleable__label-arrow\">StandardScaler</label><div class=\"sk-toggleable__content\"><pre>StandardScaler()</pre></div></div></div></div></div>"
            ],
            "text/plain": [
              "StandardScaler()"
            ]
          },
          "execution_count": 16,
          "metadata": {},
          "output_type": "execute_result"
        }
      ],
      "source": [
        "scaler=StandardScaler()\n",
        "scaler.fit(df)"
      ]
    },
    {
      "cell_type": "code",
      "execution_count": 17,
      "metadata": {
        "execution": {
          "iopub.execute_input": "2022-02-13T15:30:59.126144Z",
          "iopub.status.busy": "2022-02-13T15:30:59.125884Z",
          "iopub.status.idle": "2022-02-13T15:30:59.137592Z",
          "shell.execute_reply": "2022-02-13T15:30:59.136670Z",
          "shell.execute_reply.started": "2022-02-13T15:30:59.126112Z"
        },
        "id": "prrVCp1_SmPW",
        "trusted": true
      },
      "outputs": [],
      "source": [
        "scaler_train=scaler.transform(df)"
      ]
    },
    {
      "cell_type": "markdown",
      "metadata": {
        "id": "Jt6_bWbDSmPW"
      },
      "source": [
        "# DBSCAN Clustering tuninig"
      ]
    },
    {
      "cell_type": "code",
      "execution_count": 18,
      "metadata": {
        "execution": {
          "iopub.execute_input": "2022-02-13T15:30:59.139368Z",
          "iopub.status.busy": "2022-02-13T15:30:59.139096Z",
          "iopub.status.idle": "2022-02-13T15:30:59.152774Z",
          "shell.execute_reply": "2022-02-13T15:30:59.151814Z",
          "shell.execute_reply.started": "2022-02-13T15:30:59.139334Z"
        },
        "id": "kZvwo0ybSmPW",
        "trusted": true
      },
      "outputs": [],
      "source": [
        "# Import necessary libraries for DBSCAN\n",
        "from sklearn.metrics import v_measure_score\n",
        "from sklearn.cluster import DBSCAN"
      ]
    },
    {
      "cell_type": "markdown",
      "metadata": {
        "id": "e3ldZcIOWfu8"
      },
      "source": [
        "# Create DBSCAN cluster and fit to the scaled data"
      ]
    },
    {
      "cell_type": "code",
      "execution_count": 19,
      "metadata": {
        "colab": {
          "base_uri": "https://localhost:8080/"
        },
        "execution": {
          "iopub.execute_input": "2022-02-13T15:30:59.154907Z",
          "iopub.status.busy": "2022-02-13T15:30:59.154612Z",
          "iopub.status.idle": "2022-02-13T15:30:59.427348Z",
          "shell.execute_reply": "2022-02-13T15:30:59.426301Z",
          "shell.execute_reply.started": "2022-02-13T15:30:59.154869Z"
        },
        "id": "EUCWKFDlSmPW",
        "outputId": "4137a918-460d-4c65-8b9f-0c6ff2255a11",
        "trusted": true
      },
      "outputs": [
        {
          "name": "stdout",
          "output_type": "stream",
          "text": [
            "labels:  [-1  0  1  2  3]\n"
          ]
        }
      ],
      "source": [
        "dbscan_cluster = DBSCAN(eps=.5, min_samples=15)\n",
        "dbscan_cluster.fit(scaler_train)\n",
        "print('labels: ', np.unique(dbscan_cluster.labels_))  # Fix the variable name\n",
        "\n"
      ]
    },
    {
      "cell_type": "markdown",
      "metadata": {
        "id": "s_S6gmwcWjVM"
      },
      "source": [
        "# Visualizing DBSCAN"
      ]
    },
    {
      "cell_type": "code",
      "execution_count": 37,
      "metadata": {
        "colab": {
          "base_uri": "https://localhost:8080/",
          "height": 450
        },
        "id": "RaG2zcCYWjfr",
        "outputId": "b560a0f1-5ee3-4209-9e1a-1eaa68677ee0"
      },
      "outputs": [
        {
          "data": {
            "image/png": "[encoded data removed]",
            "text/plain": [
              "<Figure size 432x288 with 1 Axes>"
            ]
          },
          "metadata": {
            "needs_background": "light"
          },
          "output_type": "display_data"
        }
      ],
      "source": [
        "plt.scatter(scaler_train[:, 0],\n",
        "            scaler_train[:, 1],\n",
        "            c=dbscan_cluster.labels_,  # Fix the variable name\n",
        "            label=scaler_train)\n",
        "plt.xlabel(\"Annual Income\")\n",
        "plt.ylabel(\"Spending Score\")\n",
        "plt.show()\n"
      ]
    },
    {
      "cell_type": "code",
      "execution_count": 21,
      "metadata": {
        "colab": {
          "base_uri": "https://localhost:8080/"
        },
        "id": "m_CDX1mbWowc",
        "outputId": "19ea0f59-3396-4403-cf70-00273c1c8c55"
      },
      "outputs": [
        {
          "name": "stdout",
          "output_type": "stream",
          "text": [
            "Estimated no. of clusters: 4\n"
          ]
        }
      ],
      "source": [
        "# Number of Clusters\n",
        "labels=dbscan_cluster.labels_\n",
        "N_clus=len(set(labels))-(1 if -1 in labels else 0)\n",
        "print('Estimated no. of clusters: %d' % N_clus)\n"
      ]
    },
    {
      "cell_type": "code",
      "execution_count": 22,
      "metadata": {
        "colab": {
          "base_uri": "https://localhost:8080/"
        },
        "id": "b_mSyTmzWp2j",
        "outputId": "c58d0772-b7fb-4ef8-c94c-89c8582049f4"
      },
      "outputs": [
        {
          "name": "stdout",
          "output_type": "stream",
          "text": [
            "Estimated no. of noise points: 44\n"
          ]
        }
      ],
      "source": [
        "# Identify Noise\n",
        "n_noise = list(dbscan_cluster.labels_).count(-1)\n",
        "print('Estimated no. of noise points: %d' % n_noise)\n"
      ]
    },
    {
      "cell_type": "markdown",
      "metadata": {
        "id": "PfiUr3MmWt6D"
      },
      "source": [
        "# Evaluate the clustering performance using silhouette score"
      ]
    },
    {
      "cell_type": "code",
      "execution_count": 23,
      "metadata": {
        "colab": {
          "base_uri": "https://localhost:8080/"
        },
        "execution": {
          "iopub.execute_input": "2022-02-13T15:30:59.429769Z",
          "iopub.status.busy": "2022-02-13T15:30:59.429240Z",
          "iopub.status.idle": "2022-02-13T15:30:59.445398Z",
          "shell.execute_reply": "2022-02-13T15:30:59.444119Z",
          "shell.execute_reply.started": "2022-02-13T15:30:59.429719Z"
        },
        "id": "6DK3Y4JISmPW",
        "outputId": "1f032fbe-3d80-4c2a-81a8-ee634abe2c2d",
        "trusted": true
      },
      "outputs": [
        {
          "name": "stdout",
          "output_type": "stream",
          "text": [
            "score:  0.3687238785666543\n"
          ]
        }
      ],
      "source": [
        "from sklearn.metrics import silhouette_score\n",
        "print('score: ', silhouette_score(scaler_train, dbscan_cluster.labels_))"
      ]
    }
  ],
  "metadata": {
    "colab": {
      "provenance": []
    },
    "kernelspec": {
      "display_name": "Python 3",
      "language": "python",
      "name": "python3"
    },
    "language_info": {
      "codemirror_mode": {
        "name": "ipython",
        "version": 3
      },
      "file_extension": ".py",
      "mimetype": "text/x-python",
      "name": "python",
      "nbconvert_exporter": "python",
      "pygments_lexer": "ipython3",
      "version": "3.10.4"
    }
  },
  "nbformat": 4,
  "nbformat_minor": 0
}
