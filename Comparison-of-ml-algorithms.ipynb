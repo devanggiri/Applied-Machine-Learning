{
 "cells": [
  {
   "cell_type": "markdown",
   "id": "b61459e7",
   "metadata": {
    "papermill": {
     "duration": 0.006397,
     "end_time": "2023-10-06T13:45:49.895130",
     "exception": false,
     "start_time": "2023-10-06T13:45:49.888733",
     "status": "completed"
    },
    "tags": []
   },
   "source": [
    "# Comprehensive Comparison of Machine Learning Algorithms for Diabetes Prediction"
   ]
  },
  {
   "cell_type": "markdown",
   "id": "f2befd46",
   "metadata": {
    "papermill": {
     "duration": 0.005482,
     "end_time": "2023-10-06T13:45:49.906351",
     "exception": false,
     "start_time": "2023-10-06T13:45:49.900869",
     "status": "completed"
    },
    "tags": []
   },
   "source": [
    "# Import Libraries"
   ]
  },
  {
   "cell_type": "code",
   "execution_count": 1,
   "id": "51856f17",
   "metadata": {
    "execution": {
     "iopub.execute_input": "2023-10-06T13:45:49.922915Z",
     "iopub.status.busy": "2023-10-06T13:45:49.922292Z",
     "iopub.status.idle": "2023-10-06T13:45:52.177057Z",
     "shell.execute_reply": "2023-10-06T13:45:52.175582Z"
    },
    "papermill": {
     "duration": 2.267025,
     "end_time": "2023-10-06T13:45:52.179951",
     "exception": false,
     "start_time": "2023-10-06T13:45:49.912926",
     "status": "completed"
    },
    "tags": []
   },
   "outputs": [],
   "source": [
    "import numpy as np\n",
    "import pandas as pd\n",
    "import matplotlib.pyplot as plt\n",
    "from sklearn.model_selection import train_test_split\n",
    "from sklearn.ensemble import RandomForestClassifier\n",
    "from sklearn.tree import DecisionTreeClassifier\n",
    "from sklearn.neighbors import KNeighborsClassifier\n",
    "from sklearn.naive_bayes import GaussianNB\n",
    "from sklearn.linear_model import LogisticRegression\n",
    "from sklearn.svm import SVC\n",
    "from sklearn.metrics import accuracy_score\n",
    "from sklearn.preprocessing import StandardScaler\n",
    "from sklearn.feature_selection import SelectKBest\n",
    "from sklearn.feature_selection import f_classif"
   ]
  },
  {
   "cell_type": "markdown",
   "id": "fa0e5377",
   "metadata": {
    "papermill": {
     "duration": 0.005209,
     "end_time": "2023-10-06T13:45:52.201820",
     "exception": false,
     "start_time": "2023-10-06T13:45:52.196611",
     "status": "completed"
    },
    "tags": []
   },
   "source": [
    "# Load the data"
   ]
  },
  {
   "cell_type": "code",
   "execution_count": 2,
   "id": "ada887ff",
   "metadata": {
    "execution": {
     "iopub.execute_input": "2023-10-06T13:45:52.216066Z",
     "iopub.status.busy": "2023-10-06T13:45:52.214266Z",
     "iopub.status.idle": "2023-10-06T13:45:52.278297Z",
     "shell.execute_reply": "2023-10-06T13:45:52.276872Z"
    },
    "papermill": {
     "duration": 0.073233,
     "end_time": "2023-10-06T13:45:52.280464",
     "exception": false,
     "start_time": "2023-10-06T13:45:52.207231",
     "status": "completed"
    },
    "tags": []
   },
   "outputs": [
    {
     "name": "stdout",
     "output_type": "stream",
     "text": [
      "(768, 9)\n"
     ]
    }
   ],
   "source": [
    "data = pd.read_csv(\"diabetes.csv\", encoding=\"ISO-8859-1\")\n",
    "print(data.shape)"
   ]
  },
  {
   "cell_type": "code",
   "execution_count": 3,
   "id": "0d3bac53",
   "metadata": {},
   "outputs": [
    {
     "data": {
      "text/html": [
       "<div>\n",
       "<style scoped>\n",
       "    .dataframe tbody tr th:only-of-type {\n",
       "        vertical-align: middle;\n",
       "    }\n",
       "\n",
       "    .dataframe tbody tr th {\n",
       "        vertical-align: top;\n",
       "    }\n",
       "\n",
       "    .dataframe thead th {\n",
       "        text-align: right;\n",
       "    }\n",
       "</style>\n",
       "<table border=\"1\" class=\"dataframe\">\n",
       "  <thead>\n",
       "    <tr style=\"text-align: right;\">\n",
       "      <th></th>\n",
       "      <th>Pregnancies</th>\n",
       "      <th>Glucose</th>\n",
       "      <th>BloodPressure</th>\n",
       "      <th>SkinThickness</th>\n",
       "      <th>Insulin</th>\n",
       "      <th>BMI</th>\n",
       "      <th>DiabetesPedigreeFunction</th>\n",
       "      <th>Age</th>\n",
       "      <th>Outcome</th>\n",
       "    </tr>\n",
       "  </thead>\n",
       "  <tbody>\n",
       "    <tr>\n",
       "      <th>0</th>\n",
       "      <td>6</td>\n",
       "      <td>148</td>\n",
       "      <td>72</td>\n",
       "      <td>35</td>\n",
       "      <td>0</td>\n",
       "      <td>33.6</td>\n",
       "      <td>0.627</td>\n",
       "      <td>50</td>\n",
       "      <td>1</td>\n",
       "    </tr>\n",
       "    <tr>\n",
       "      <th>1</th>\n",
       "      <td>1</td>\n",
       "      <td>85</td>\n",
       "      <td>66</td>\n",
       "      <td>29</td>\n",
       "      <td>0</td>\n",
       "      <td>26.6</td>\n",
       "      <td>0.351</td>\n",
       "      <td>31</td>\n",
       "      <td>0</td>\n",
       "    </tr>\n",
       "    <tr>\n",
       "      <th>2</th>\n",
       "      <td>8</td>\n",
       "      <td>183</td>\n",
       "      <td>64</td>\n",
       "      <td>0</td>\n",
       "      <td>0</td>\n",
       "      <td>23.3</td>\n",
       "      <td>0.672</td>\n",
       "      <td>32</td>\n",
       "      <td>1</td>\n",
       "    </tr>\n",
       "    <tr>\n",
       "      <th>3</th>\n",
       "      <td>1</td>\n",
       "      <td>89</td>\n",
       "      <td>66</td>\n",
       "      <td>23</td>\n",
       "      <td>94</td>\n",
       "      <td>28.1</td>\n",
       "      <td>0.167</td>\n",
       "      <td>21</td>\n",
       "      <td>0</td>\n",
       "    </tr>\n",
       "    <tr>\n",
       "      <th>4</th>\n",
       "      <td>0</td>\n",
       "      <td>137</td>\n",
       "      <td>40</td>\n",
       "      <td>35</td>\n",
       "      <td>168</td>\n",
       "      <td>43.1</td>\n",
       "      <td>2.288</td>\n",
       "      <td>33</td>\n",
       "      <td>1</td>\n",
       "    </tr>\n",
       "  </tbody>\n",
       "</table>\n",
       "</div>"
      ],
      "text/plain": [
       "   Pregnancies  Glucose  BloodPressure  SkinThickness  Insulin   BMI  \\\n",
       "0            6      148             72             35        0  33.6   \n",
       "1            1       85             66             29        0  26.6   \n",
       "2            8      183             64              0        0  23.3   \n",
       "3            1       89             66             23       94  28.1   \n",
       "4            0      137             40             35      168  43.1   \n",
       "\n",
       "   DiabetesPedigreeFunction  Age  Outcome  \n",
       "0                     0.627   50        1  \n",
       "1                     0.351   31        0  \n",
       "2                     0.672   32        1  \n",
       "3                     0.167   21        0  \n",
       "4                     2.288   33        1  "
      ]
     },
     "execution_count": 3,
     "metadata": {},
     "output_type": "execute_result"
    }
   ],
   "source": [
    "data.head()"
   ]
  },
  {
   "cell_type": "markdown",
   "id": "21436a37",
   "metadata": {
    "papermill": {
     "duration": 0.005562,
     "end_time": "2023-10-06T13:45:52.291914",
     "exception": false,
     "start_time": "2023-10-06T13:45:52.286352",
     "status": "completed"
    },
    "tags": []
   },
   "source": [
    "# Separate features and labels"
   ]
  },
  {
   "cell_type": "code",
   "execution_count": 4,
   "id": "d0137105",
   "metadata": {
    "execution": {
     "iopub.execute_input": "2023-10-06T13:45:52.304898Z",
     "iopub.status.busy": "2023-10-06T13:45:52.304488Z",
     "iopub.status.idle": "2023-10-06T13:45:52.313254Z",
     "shell.execute_reply": "2023-10-06T13:45:52.312514Z"
    },
    "papermill": {
     "duration": 0.017582,
     "end_time": "2023-10-06T13:45:52.314966",
     "exception": false,
     "start_time": "2023-10-06T13:45:52.297384",
     "status": "completed"
    },
    "tags": []
   },
   "outputs": [],
   "source": [
    "X = data.drop(\"Outcome\", axis=1)  # Assuming \"Outcome\" is the target column\n",
    "y = data[\"Outcome\"]"
   ]
  },
  {
   "cell_type": "markdown",
   "id": "68df63d8",
   "metadata": {
    "papermill": {
     "duration": 0.005436,
     "end_time": "2023-10-06T13:45:52.337719",
     "exception": false,
     "start_time": "2023-10-06T13:45:52.332283",
     "status": "completed"
    },
    "tags": []
   },
   "source": [
    "# Split the data into training and testing sets\n"
   ]
  },
  {
   "cell_type": "code",
   "execution_count": 5,
   "id": "01586938",
   "metadata": {
    "execution": {
     "iopub.execute_input": "2023-10-06T13:45:52.350997Z",
     "iopub.status.busy": "2023-10-06T13:45:52.350380Z",
     "iopub.status.idle": "2023-10-06T13:45:52.358355Z",
     "shell.execute_reply": "2023-10-06T13:45:52.357128Z"
    },
    "papermill": {
     "duration": 0.017415,
     "end_time": "2023-10-06T13:45:52.360680",
     "exception": false,
     "start_time": "2023-10-06T13:45:52.343265",
     "status": "completed"
    },
    "tags": []
   },
   "outputs": [],
   "source": [
    "X_train, X_test, y_train, y_test = train_test_split(X, y, test_size=0.2, random_state=42)"
   ]
  },
  {
   "cell_type": "markdown",
   "id": "dca88eb1",
   "metadata": {
    "papermill": {
     "duration": 0.005377,
     "end_time": "2023-10-06T13:45:52.383669",
     "exception": false,
     "start_time": "2023-10-06T13:45:52.378292",
     "status": "completed"
    },
    "tags": []
   },
   "source": [
    "# Scale the data"
   ]
  },
  {
   "cell_type": "code",
   "execution_count": 6,
   "id": "555ab207",
   "metadata": {
    "execution": {
     "iopub.execute_input": "2023-10-06T13:45:52.397126Z",
     "iopub.status.busy": "2023-10-06T13:45:52.396739Z",
     "iopub.status.idle": "2023-10-06T13:45:52.407676Z",
     "shell.execute_reply": "2023-10-06T13:45:52.406958Z"
    },
    "papermill": {
     "duration": 0.020359,
     "end_time": "2023-10-06T13:45:52.409738",
     "exception": false,
     "start_time": "2023-10-06T13:45:52.389379",
     "status": "completed"
    },
    "tags": []
   },
   "outputs": [],
   "source": [
    "scaler = StandardScaler()\n",
    "X_train_scaled = scaler.fit_transform(X_train)\n",
    "X_test_scaled = scaler.transform(X_test)"
   ]
  },
  {
   "cell_type": "markdown",
   "id": "9cecd85d",
   "metadata": {
    "papermill": {
     "duration": 0.005452,
     "end_time": "2023-10-06T13:45:52.421197",
     "exception": false,
     "start_time": "2023-10-06T13:45:52.415745",
     "status": "completed"
    },
    "tags": []
   },
   "source": [
    "## Creating a StandardScaler object to scale the features. Feature scaling is crucial for some machine learning algorithms.\n",
    "* X_train_scaled and X_test_scaled store the scaled training and testing data, respectively."
   ]
  },
  {
   "cell_type": "markdown",
   "id": "758670ca",
   "metadata": {
    "papermill": {
     "duration": 0.005877,
     "end_time": "2023-10-06T13:45:52.432783",
     "exception": false,
     "start_time": "2023-10-06T13:45:52.426906",
     "status": "completed"
    },
    "tags": []
   },
   "source": [
    "# Perform feature selection based on correlation\n"
   ]
  },
  {
   "cell_type": "code",
   "execution_count": 7,
   "id": "1fb2348f",
   "metadata": {
    "execution": {
     "iopub.execute_input": "2023-10-06T13:45:52.445686Z",
     "iopub.status.busy": "2023-10-06T13:45:52.445324Z",
     "iopub.status.idle": "2023-10-06T13:45:52.454983Z",
     "shell.execute_reply": "2023-10-06T13:45:52.453611Z"
    },
    "papermill": {
     "duration": 0.018941,
     "end_time": "2023-10-06T13:45:52.457223",
     "exception": false,
     "start_time": "2023-10-06T13:45:52.438282",
     "status": "completed"
    },
    "tags": []
   },
   "outputs": [],
   "source": [
    "num_features_to_select = 5  # You can adjust this number as needed\n",
    "selector = SelectKBest(score_func=f_classif, k=num_features_to_select)\n",
    "X_train_selected = selector.fit_transform(X_train_scaled, y_train)\n",
    "X_test_selected = selector.transform(X_test_scaled)"
   ]
  },
  {
   "cell_type": "markdown",
   "id": "6e646c6d",
   "metadata": {
    "papermill": {
     "duration": 0.005226,
     "end_time": "2023-10-06T13:45:52.468340",
     "exception": false,
     "start_time": "2023-10-06T13:45:52.463114",
     "status": "completed"
    },
    "tags": []
   },
   "source": [
    "##### These lines perform feature selection based on correlation using the SelectKBest method with f_classif as the scoring function. It selects the top num_features_to_select features with the highest correlation with the target variable.\n",
    "* X_train_selected and X_test_selected store the selected features for training and testing data."
   ]
  },
  {
   "cell_type": "markdown",
   "id": "a200c8da",
   "metadata": {
    "papermill": {
     "duration": 0.005272,
     "end_time": "2023-10-06T13:45:52.509969",
     "exception": false,
     "start_time": "2023-10-06T13:45:52.504697",
     "status": "completed"
    },
    "tags": []
   },
   "source": [
    "# Initializing various machine learning models for classification:\n",
    "* rf_model: A Random Forest Classifier.\n",
    "* dt_model: A Decision Tree Classifier.\n",
    "* knn_model: A K-Nearest Neighbors Classifier.\n",
    "* nb_model: A Gaussian Naive Bayes Classifier.\n",
    "* lr_model: A Logistic Regression Classifier with an increased max_iter parameter set to 1000 to avoid convergence issues.\n",
    "* svm_model: A Support Vector Machine Classifier."
   ]
  },
  {
   "cell_type": "code",
   "execution_count": 8,
   "id": "1ef60920",
   "metadata": {
    "execution": {
     "iopub.execute_input": "2023-10-06T13:45:52.492197Z",
     "iopub.status.busy": "2023-10-06T13:45:52.491620Z",
     "iopub.status.idle": "2023-10-06T13:45:52.497299Z",
     "shell.execute_reply": "2023-10-06T13:45:52.496412Z"
    },
    "papermill": {
     "duration": 0.014639,
     "end_time": "2023-10-06T13:45:52.499150",
     "exception": false,
     "start_time": "2023-10-06T13:45:52.484511",
     "status": "completed"
    },
    "tags": []
   },
   "outputs": [],
   "source": [
    "rf_model = RandomForestClassifier()\n",
    "dt_model = DecisionTreeClassifier()\n",
    "knn_model = KNeighborsClassifier()\n",
    "nb_model = GaussianNB()\n",
    "lr_model = LogisticRegression(max_iter=1000)\n",
    "svm_model = SVC()"
   ]
  },
  {
   "cell_type": "markdown",
   "id": "b2060bed",
   "metadata": {
    "papermill": {
     "duration": 0.005125,
     "end_time": "2023-10-06T13:45:52.520698",
     "exception": false,
     "start_time": "2023-10-06T13:45:52.515573",
     "status": "completed"
    },
    "tags": []
   },
   "source": [
    "# Train the models"
   ]
  },
  {
   "cell_type": "code",
   "execution_count": 9,
   "id": "4e33e900",
   "metadata": {
    "execution": {
     "iopub.execute_input": "2023-10-06T13:45:52.534179Z",
     "iopub.status.busy": "2023-10-06T13:45:52.533466Z",
     "iopub.status.idle": "2023-10-06T13:45:52.777009Z",
     "shell.execute_reply": "2023-10-06T13:45:52.775891Z"
    },
    "papermill": {
     "duration": 0.253267,
     "end_time": "2023-10-06T13:45:52.779395",
     "exception": false,
     "start_time": "2023-10-06T13:45:52.526128",
     "status": "completed"
    },
    "tags": []
   },
   "outputs": [
    {
     "data": {
      "text/html": [
       "<style>#sk-container-id-1 {color: black;background-color: white;}#sk-container-id-1 pre{padding: 0;}#sk-container-id-1 div.sk-toggleable {background-color: white;}#sk-container-id-1 label.sk-toggleable__label {cursor: pointer;display: block;width: 100%;margin-bottom: 0;padding: 0.3em;box-sizing: border-box;text-align: center;}#sk-container-id-1 label.sk-toggleable__label-arrow:before {content: \"▸\";float: left;margin-right: 0.25em;color: #696969;}#sk-container-id-1 label.sk-toggleable__label-arrow:hover:before {color: black;}#sk-container-id-1 div.sk-estimator:hover label.sk-toggleable__label-arrow:before {color: black;}#sk-container-id-1 div.sk-toggleable__content {max-height: 0;max-width: 0;overflow: hidden;text-align: left;background-color: #f0f8ff;}#sk-container-id-1 div.sk-toggleable__content pre {margin: 0.2em;color: black;border-radius: 0.25em;background-color: #f0f8ff;}#sk-container-id-1 input.sk-toggleable__control:checked~div.sk-toggleable__content {max-height: 200px;max-width: 100%;overflow: auto;}#sk-container-id-1 input.sk-toggleable__control:checked~label.sk-toggleable__label-arrow:before {content: \"▾\";}#sk-container-id-1 div.sk-estimator input.sk-toggleable__control:checked~label.sk-toggleable__label {background-color: #d4ebff;}#sk-container-id-1 div.sk-label input.sk-toggleable__control:checked~label.sk-toggleable__label {background-color: #d4ebff;}#sk-container-id-1 input.sk-hidden--visually {border: 0;clip: rect(1px 1px 1px 1px);clip: rect(1px, 1px, 1px, 1px);height: 1px;margin: -1px;overflow: hidden;padding: 0;position: absolute;width: 1px;}#sk-container-id-1 div.sk-estimator {font-family: monospace;background-color: #f0f8ff;border: 1px dotted black;border-radius: 0.25em;box-sizing: border-box;margin-bottom: 0.5em;}#sk-container-id-1 div.sk-estimator:hover {background-color: #d4ebff;}#sk-container-id-1 div.sk-parallel-item::after {content: \"\";width: 100%;border-bottom: 1px solid gray;flex-grow: 1;}#sk-container-id-1 div.sk-label:hover label.sk-toggleable__label {background-color: #d4ebff;}#sk-container-id-1 div.sk-serial::before {content: \"\";position: absolute;border-left: 1px solid gray;box-sizing: border-box;top: 0;bottom: 0;left: 50%;z-index: 0;}#sk-container-id-1 div.sk-serial {display: flex;flex-direction: column;align-items: center;background-color: white;padding-right: 0.2em;padding-left: 0.2em;position: relative;}#sk-container-id-1 div.sk-item {position: relative;z-index: 1;}#sk-container-id-1 div.sk-parallel {display: flex;align-items: stretch;justify-content: center;background-color: white;position: relative;}#sk-container-id-1 div.sk-item::before, #sk-container-id-1 div.sk-parallel-item::before {content: \"\";position: absolute;border-left: 1px solid gray;box-sizing: border-box;top: 0;bottom: 0;left: 50%;z-index: -1;}#sk-container-id-1 div.sk-parallel-item {display: flex;flex-direction: column;z-index: 1;position: relative;background-color: white;}#sk-container-id-1 div.sk-parallel-item:first-child::after {align-self: flex-end;width: 50%;}#sk-container-id-1 div.sk-parallel-item:last-child::after {align-self: flex-start;width: 50%;}#sk-container-id-1 div.sk-parallel-item:only-child::after {width: 0;}#sk-container-id-1 div.sk-dashed-wrapped {border: 1px dashed gray;margin: 0 0.4em 0.5em 0.4em;box-sizing: border-box;padding-bottom: 0.4em;background-color: white;}#sk-container-id-1 div.sk-label label {font-family: monospace;font-weight: bold;display: inline-block;line-height: 1.2em;}#sk-container-id-1 div.sk-label-container {text-align: center;}#sk-container-id-1 div.sk-container {/* jupyter's `normalize.less` sets `[hidden] { display: none; }` but bootstrap.min.css set `[hidden] { display: none !important; }` so we also need the `!important` here to be able to override the default hidden behavior on the sphinx rendered scikit-learn.org. See: https://github.com/scikit-learn/scikit-learn/issues/21755 */display: inline-block !important;position: relative;}#sk-container-id-1 div.sk-text-repr-fallback {display: none;}</style><div id=\"sk-container-id-1\" class=\"sk-top-container\"><div class=\"sk-text-repr-fallback\"><pre>SVC()</pre><b>In a Jupyter environment, please rerun this cell to show the HTML representation or trust the notebook. <br />On GitHub, the HTML representation is unable to render, please try loading this page with nbviewer.org.</b></div><div class=\"sk-container\" hidden><div class=\"sk-item\"><div class=\"sk-estimator sk-toggleable\"><input class=\"sk-toggleable__control sk-hidden--visually\" id=\"sk-estimator-id-1\" type=\"checkbox\" checked><label for=\"sk-estimator-id-1\" class=\"sk-toggleable__label sk-toggleable__label-arrow\">SVC</label><div class=\"sk-toggleable__content\"><pre>SVC()</pre></div></div></div></div></div>"
      ],
      "text/plain": [
       "SVC()"
      ]
     },
     "execution_count": 9,
     "metadata": {},
     "output_type": "execute_result"
    }
   ],
   "source": [
    "rf_model.fit(X_train_selected, y_train)\n",
    "dt_model.fit(X_train_selected, y_train)\n",
    "knn_model.fit(X_train_selected, y_train)\n",
    "nb_model.fit(X_train_selected, y_train)\n",
    "lr_model.fit(X_train_selected, y_train)\n",
    "svm_model.fit(X_train_selected, y_train)"
   ]
  },
  {
   "cell_type": "markdown",
   "id": "74da1279",
   "metadata": {
    "papermill": {
     "duration": 0.005402,
     "end_time": "2023-10-06T13:45:52.802646",
     "exception": false,
     "start_time": "2023-10-06T13:45:52.797244",
     "status": "completed"
    },
    "tags": []
   },
   "source": [
    "# Make predictions with the models"
   ]
  },
  {
   "cell_type": "code",
   "execution_count": 10,
   "id": "17ceddee",
   "metadata": {
    "execution": {
     "iopub.execute_input": "2023-10-06T13:45:52.815999Z",
     "iopub.status.busy": "2023-10-06T13:45:52.815520Z",
     "iopub.status.idle": "2023-10-06T13:45:52.843706Z",
     "shell.execute_reply": "2023-10-06T13:45:52.842587Z"
    },
    "papermill": {
     "duration": 0.038074,
     "end_time": "2023-10-06T13:45:52.846369",
     "exception": false,
     "start_time": "2023-10-06T13:45:52.808295",
     "status": "completed"
    },
    "tags": []
   },
   "outputs": [],
   "source": [
    "rf_pred = rf_model.predict(X_test_selected)\n",
    "dt_pred = dt_model.predict(X_test_selected)\n",
    "knn_pred = knn_model.predict(X_test_selected)\n",
    "nb_pred = nb_model.predict(X_test_selected)\n",
    "lr_pred = lr_model.predict(X_test_selected)\n",
    "svm_pred = svm_model.predict(X_test_selected)"
   ]
  },
  {
   "cell_type": "markdown",
   "id": "749ad2df",
   "metadata": {
    "papermill": {
     "duration": 0.005456,
     "end_time": "2023-10-06T13:45:52.869430",
     "exception": false,
     "start_time": "2023-10-06T13:45:52.863974",
     "status": "completed"
    },
    "tags": []
   },
   "source": [
    "# Evaluate the model performance\n"
   ]
  },
  {
   "cell_type": "code",
   "execution_count": 11,
   "id": "7eb9cb79",
   "metadata": {
    "execution": {
     "iopub.execute_input": "2023-10-06T13:45:52.883043Z",
     "iopub.status.busy": "2023-10-06T13:45:52.882608Z",
     "iopub.status.idle": "2023-10-06T13:45:52.892169Z",
     "shell.execute_reply": "2023-10-06T13:45:52.890964Z"
    },
    "papermill": {
     "duration": 0.019306,
     "end_time": "2023-10-06T13:45:52.894425",
     "exception": false,
     "start_time": "2023-10-06T13:45:52.875119",
     "status": "completed"
    },
    "tags": []
   },
   "outputs": [],
   "source": [
    "rf_accuracy = accuracy_score(y_test, rf_pred)\n",
    "dt_accuracy = accuracy_score(y_test, dt_pred)\n",
    "knn_accuracy = accuracy_score(y_test, knn_pred)\n",
    "nb_accuracy = accuracy_score(y_test, nb_pred)\n",
    "lr_accuracy = accuracy_score(y_test, lr_pred)\n",
    "svm_accuracy = accuracy_score(y_test, svm_pred)"
   ]
  },
  {
   "cell_type": "markdown",
   "id": "6f6cf5d2",
   "metadata": {
    "papermill": {
     "duration": 0.005524,
     "end_time": "2023-10-06T13:45:52.917654",
     "exception": false,
     "start_time": "2023-10-06T13:45:52.912130",
     "status": "completed"
    },
    "tags": []
   },
   "source": [
    "# Print the accuracy of each model"
   ]
  },
  {
   "cell_type": "code",
   "execution_count": 12,
   "id": "42f7bd24",
   "metadata": {
    "execution": {
     "iopub.execute_input": "2023-10-06T13:45:52.932003Z",
     "iopub.status.busy": "2023-10-06T13:45:52.931537Z",
     "iopub.status.idle": "2023-10-06T13:45:52.938417Z",
     "shell.execute_reply": "2023-10-06T13:45:52.937284Z"
    },
    "papermill": {
     "duration": 0.016905,
     "end_time": "2023-10-06T13:45:52.940273",
     "exception": false,
     "start_time": "2023-10-06T13:45:52.923368",
     "status": "completed"
    },
    "tags": []
   },
   "outputs": [
    {
     "name": "stdout",
     "output_type": "stream",
     "text": [
      "Random Forest Accuracy: 0.7662337662337663\n",
      "Decision Tree Accuracy: 0.7402597402597403\n",
      "K-Nearest Neighbors Accuracy: 0.7337662337662337\n",
      "Naive Bayes Accuracy: 0.7532467532467533\n",
      "Logistic Regression Accuracy: 0.7532467532467533\n",
      "Support Vector Machine Accuracy: 0.7662337662337663\n"
     ]
    }
   ],
   "source": [
    "print(\"Random Forest Accuracy:\", rf_accuracy)\n",
    "print(\"Decision Tree Accuracy:\", dt_accuracy)\n",
    "print(\"K-Nearest Neighbors Accuracy:\", knn_accuracy)\n",
    "print(\"Naive Bayes Accuracy:\", nb_accuracy)\n",
    "print(\"Logistic Regression Accuracy:\", lr_accuracy)\n",
    "print(\"Support Vector Machine Accuracy:\", svm_accuracy)"
   ]
  },
  {
   "cell_type": "code",
   "execution_count": 13,
   "id": "f7a2d687",
   "metadata": {
    "execution": {
     "iopub.execute_input": "2023-10-06T13:45:52.954430Z",
     "iopub.status.busy": "2023-10-06T13:45:52.954045Z",
     "iopub.status.idle": "2023-10-06T13:45:53.234880Z",
     "shell.execute_reply": "2023-10-06T13:45:53.234037Z"
    },
    "papermill": {
     "duration": 0.290374,
     "end_time": "2023-10-06T13:45:53.236897",
     "exception": false,
     "start_time": "2023-10-06T13:45:52.946523",
     "status": "completed"
    },
    "tags": []
   },
   "outputs": [
    {
     "data": {
      "image/png": "[encoded data removed]",
      "text/plain": [
       "<Figure size 720x432 with 1 Axes>"
      ]
     },
     "metadata": {
      "needs_background": "light"
     },
     "output_type": "display_data"
    }
   ],
   "source": [
    "# List of model names for the x-axis\n",
    "model_names = [\"Random Forest\", \"Decision Tree\", \"K-Nearest Neighbors\", \"Naive Bayes\", \"Logistic Regression\", \"Support Vector Machine\"]\n",
    "# List of accuracy scores for the y-axis\n",
    "accuracy_scores = [rf_accuracy, dt_accuracy, knn_accuracy, nb_accuracy, lr_accuracy, svm_accuracy]\n",
    "# Create a bar chart\n",
    "plt.figure(figsize=(10, 6))\n",
    "plt.bar(model_names, accuracy_scores, color='brown')\n",
    "plt.xlabel('Machine Learning Models')\n",
    "plt.ylabel('Accuracy')\n",
    "plt.title('Accuracy Comparison of Machine Learning Models')\n",
    "plt.ylim(0.6, 0.8)  # Adjust the y-axis limits as needed\n",
    "plt.xticks(rotation=45)  # Rotate x-axis labels for better visibility\n",
    "plt.grid()\n",
    "plt.show()"
   ]
  },
  {
   "cell_type": "markdown",
   "id": "87c09469",
   "metadata": {
    "papermill": {
     "duration": 0.006696,
     "end_time": "2023-10-06T13:45:53.315517",
     "exception": false,
     "start_time": "2023-10-06T13:45:53.308821",
     "status": "completed"
    },
    "tags": []
   },
   "source": [
    "##### Finally, these lines print the accuracy of each model on the testing data. This provides you with a clear evaluation of how well each machine learning algorithm performed in predicting diabetes. The printed accuracies give you insights into the relative performance of each model."
   ]
  },
  {
   "cell_type": "markdown",
   "id": "818e2517",
   "metadata": {},
   "source": [
    "SVM and Random Forest algorithms require fewer input data compared to other machine learning algorithms. This makes them suitable for less intensive applications with a smaller dataset"
   ]
  }
 ],
 "metadata": {
  "kernelspec": {
   "display_name": "Python 3",
   "language": "python",
   "name": "python3"
  },
  "language_info": {
   "codemirror_mode": {
    "name": "ipython",
    "version": 3
   },
   "file_extension": ".py",
   "mimetype": "text/x-python",
   "name": "python",
   "nbconvert_exporter": "python",
   "pygments_lexer": "ipython3",
   "version": "3.10.4"
  },
  "papermill": {
   "default_parameters": {},
   "duration": 7.42229,
   "end_time": "2023-10-06T13:45:53.944321",
   "environment_variables": {},
   "exception": null,
   "input_path": "__notebook__.ipynb",
   "output_path": "__notebook__.ipynb",
   "parameters": {},
   "start_time": "2023-10-06T13:45:46.522031",
   "version": "2.4.0"
  }
 },
 "nbformat": 4,
 "nbformat_minor": 5
}
