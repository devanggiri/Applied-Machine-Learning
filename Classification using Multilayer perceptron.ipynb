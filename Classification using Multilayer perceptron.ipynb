{
  "cells": [
    {
      "cell_type": "markdown",
      "id": "zXiikSRUzxZl",
      "metadata": {
        "id": "zXiikSRUzxZl"
      },
      "source": [
        "#Implement classification using Multilayer perceptron using Iris dataset"
      ]
    },
    {
      "cell_type": "markdown",
      "id": "HSaNNVBdUwKN",
      "metadata": {
        "id": "HSaNNVBdUwKN"
      },
      "source": [
        "\n",
        "#Import necessary libraries"
      ]
    },
    {
      "cell_type": "code",
      "execution_count": 1,
      "id": "d1e62f76-82f5-4f5b-a14d-4a263270cce6",
      "metadata": {
        "id": "d1e62f76-82f5-4f5b-a14d-4a263270cce6"
      },
      "outputs": [],
      "source": [
        "import torch\n",
        "import torch.nn as nn\n",
        "import torch.optim as optim\n",
        "from sklearn.datasets import load_iris\n",
        "from sklearn.model_selection import train_test_split\n",
        "from sklearn.preprocessing import StandardScaler\n",
        "from sklearn.metrics import accuracy_score"
      ]
    },
    {
      "cell_type": "markdown",
      "id": "8op9PJG8U73N",
      "metadata": {
        "id": "8op9PJG8U73N"
      },
      "source": [
        "# Load and preprocess the Iris dataset"
      ]
    },
    {
      "cell_type": "code",
      "execution_count": 5,
      "id": "71832825-30cd-4ee2-9c8e-1925544645e1",
      "metadata": {
        "id": "71832825-30cd-4ee2-9c8e-1925544645e1"
      },
      "outputs": [],
      "source": [
        "data = load_iris()\n",
        "X = data.data\n",
        "y = data.target"
      ]
    },
    {
      "cell_type": "code",
      "execution_count": 6,
      "id": "4dcb5086-99cb-49b2-8bf3-1d59229cb3f8",
      "metadata": {
        "id": "4dcb5086-99cb-49b2-8bf3-1d59229cb3f8"
      },
      "outputs": [],
      "source": [
        "#data split into training and testing sets \n",
        "X_train, X_test, y_train, y_test = train_test_split(X, y, test_size=0.2, random_state=42)\n"
      ]
    },
    {
      "cell_type": "code",
      "execution_count": 7,
      "id": "e4e2db4a-7f0d-45c4-98d8-c6422b083675",
      "metadata": {
        "id": "e4e2db4a-7f0d-45c4-98d8-c6422b083675"
      },
      "outputs": [],
      "source": [
        "#Standardizes the features\n",
        "scaler = StandardScaler()\n",
        "X_train = scaler.fit_transform(X_train)\n",
        "X_test = scaler.transform(X_test)\n",
        "#Converts the NumPy arrays to PyTorch tensors\n",
        "X_train = torch.tensor(X_train, dtype=torch.float32)\n",
        "y_train = torch.tensor(y_train, dtype=torch.int64)\n",
        "X_test = torch.tensor(X_test, dtype=torch.float32)"
      ]
    },
    {
      "cell_type": "markdown",
      "id": "cZ4oyv59U8HO",
      "metadata": {
        "id": "cZ4oyv59U8HO"
      },
      "source": [
        "# Define the MLP model"
      ]
    },
    {
      "cell_type": "code",
      "execution_count": 8,
      "id": "d81135ef-a244-4ff5-a5de-2853990652a7",
      "metadata": {
        "id": "d81135ef-a244-4ff5-a5de-2853990652a7"
      },
      "outputs": [],
      "source": [
        "#Defines a custom neural network class\n",
        "class MLP(nn.Module):\n",
        "    def __init__(self, input_dim, hidden_dim, output_dim):\n",
        "        super(MLP, self).__init__()\n",
        "        self.fc1 = nn.Linear(input_dim, hidden_dim)\n",
        "        self.relu = nn.ReLU()\n",
        "        self.fc2 = nn.Linear(hidden_dim, output_dim)\n",
        "\n",
        "    def forward(self, x):\n",
        "        x = self.fc1(x)\n",
        "        x = self.relu(x)\n",
        "        x = self.fc2(x)\n",
        "        return x"
      ]
    },
    {
      "cell_type": "markdown",
      "id": "IxwEcJHYU8AF",
      "metadata": {
        "id": "IxwEcJHYU8AF"
      },
      "source": [
        "# Set model parameters and training hyperparameters"
      ]
    },
    {
      "cell_type": "code",
      "execution_count": 9,
      "id": "bebc2634-c16f-484a-8ff3-4e08cbb7ce4e",
      "metadata": {
        "id": "bebc2634-c16f-484a-8ff3-4e08cbb7ce4e"
      },
      "outputs": [],
      "source": [
        "#Sets the input, hidden, and output dimensions for the neural network model\n",
        "input_dim = X_train.shape[1]\n",
        "hidden_dim = 64\n",
        "output_dim = len(torch.unique(y_train))\n",
        "\n",
        "#Sets the learning rate for the optimizer and the number of training epochs\n",
        "learning_rate = 0.01\n",
        "epochs = 100"
      ]
    },
    {
      "cell_type": "markdown",
      "id": "DvyGP_AnU8Dt",
      "metadata": {
        "id": "DvyGP_AnU8Dt"
      },
      "source": [
        "# Initialize the model, loss function, and optimizer"
      ]
    },
    {
      "cell_type": "code",
      "execution_count": 10,
      "id": "8da5d365-f671-4ed1-acbf-f0d6730a60bc",
      "metadata": {
        "id": "8da5d365-f671-4ed1-acbf-f0d6730a60bc"
      },
      "outputs": [],
      "source": [
        "model = MLP(input_dim, hidden_dim, output_dim)"
      ]
    },
    {
      "cell_type": "code",
      "execution_count": 11,
      "id": "323cd380-a4cc-4349-8adc-cd33abe13046",
      "metadata": {
        "id": "323cd380-a4cc-4349-8adc-cd33abe13046"
      },
      "outputs": [],
      "source": [
        "#Defines the loss function\n",
        "criterion = nn.CrossEntropyLoss()\n",
        "optimizer = optim.SGD(model.parameters(), lr=learning_rate)"
      ]
    },
    {
      "cell_type": "markdown",
      "id": "1Xd5py67Vir4",
      "metadata": {
        "id": "1Xd5py67Vir4"
      },
      "source": [
        "# Training the model"
      ]
    },
    {
      "cell_type": "markdown",
      "id": "a3Kn7YK_4nXE",
      "metadata": {
        "id": "a3Kn7YK_4nXE"
      },
      "source": [
        "Trains the neural network model through a loop of specified epochs. It calculates predictions, loss, performs backpropagation, and updates the model's parameters using stochastic gradient descent (SGD)"
      ]
    },
    {
      "cell_type": "code",
      "execution_count": 12,
      "id": "6b864048-ef62-45a7-bc6d-0e0b867bb1e5",
      "metadata": {
        "colab": {
          "base_uri": "https://localhost:8080/"
        },
        "id": "6b864048-ef62-45a7-bc6d-0e0b867bb1e5",
        "outputId": "d3a2ccd6-9ef2-4f44-d5a0-e27d024ccfc3"
      },
      "outputs": [
        {
          "name": "stdout",
          "output_type": "stream",
          "text": [
            "Epoch [10/100], Loss: 1.0355\n",
            "Epoch [20/100], Loss: 0.9087\n",
            "Epoch [30/100], Loss: 0.8161\n",
            "Epoch [40/100], Loss: 0.7458\n",
            "Epoch [50/100], Loss: 0.6908\n",
            "Epoch [60/100], Loss: 0.6468\n",
            "Epoch [70/100], Loss: 0.6107\n",
            "Epoch [80/100], Loss: 0.5806\n",
            "Epoch [90/100], Loss: 0.5551\n",
            "Epoch [100/100], Loss: 0.5332\n"
          ]
        }
      ],
      "source": [
        "for epoch in range(epochs):\n",
        "    optimizer.zero_grad()\n",
        "    outputs = model(X_train)\n",
        "    loss = criterion(outputs, y_train)\n",
        "    loss.backward()\n",
        "    optimizer.step()\n",
        "\n",
        "    if (epoch + 1) % 10 == 0:\n",
        "        print(f'Epoch [{epoch + 1}/{epochs}], Loss: {loss.item():.4f}')"
      ]
    },
    {
      "cell_type": "markdown",
      "id": "ireisGaoVjFx",
      "metadata": {
        "id": "ireisGaoVjFx"
      },
      "source": [
        "# Evaluate the model on test data"
      ]
    },
    {
      "cell_type": "code",
      "execution_count": 13,
      "id": "37f306e5-3307-4527-868a-e65f06cbc49f",
      "metadata": {
        "id": "37f306e5-3307-4527-868a-e65f06cbc49f"
      },
      "outputs": [],
      "source": [
        "from sklearn.metrics import classification_report"
      ]
    },
    {
      "cell_type": "code",
      "execution_count": 14,
      "id": "41c1105b-ec84-43d9-88a8-5575627b9b40",
      "metadata": {
        "colab": {
          "base_uri": "https://localhost:8080/"
        },
        "id": "41c1105b-ec84-43d9-88a8-5575627b9b40",
        "outputId": "3ab95f5f-51bf-41c2-dcad-495d0f9ddcab"
      },
      "outputs": [
        {
          "name": "stdout",
          "output_type": "stream",
          "text": [
            "Accuracy on test data: 0.90\n",
            "Accuracy is: 90.0 %\n",
            "Classification Report:\n",
            "               precision    recall  f1-score   support\n",
            "\n",
            "           0       1.00      1.00      1.00        10\n",
            "           1       1.00      0.67      0.80         9\n",
            "           2       0.79      1.00      0.88        11\n",
            "\n",
            "    accuracy                           0.90        30\n",
            "   macro avg       0.93      0.89      0.89        30\n",
            "weighted avg       0.92      0.90      0.90        30\n",
            "\n"
          ]
        }
      ],
      "source": [
        "#Evaluates the trained model\n",
        "model.eval()\n",
        "with torch.no_grad():\n",
        "    y_pred = model(X_test)\n",
        "    _, predicted = torch.max(y_pred, 1)\n",
        "\n",
        "    accuracy = accuracy_score(y_test, predicted.numpy())\n",
        "    print(f'Accuracy on test data: {accuracy:.2f}')\n",
        "    accuracy_percent=round(accuracy,2)\n",
        "    print(\"Accuracy is:\",accuracy_percent*100,\"%\")\n",
        "\n",
        "    # Generate the classification report\n",
        "    report = classification_report(y_test, predicted.numpy())\n",
        "    print(\"Classification Report:\\n\", report)"
      ]
    },
    {
      "cell_type": "markdown",
      "id": "KTz5jvuz6CGF",
      "metadata": {
        "id": "KTz5jvuz6CGF"
      },
      "source": [
        "#Classification Report\n"
      ]
    },
    {
      "cell_type": "code",
      "execution_count": 15,
      "id": "000db644-167b-4f33-8369-b6d35e814ec2",
      "metadata": {
        "id": "000db644-167b-4f33-8369-b6d35e814ec2"
      },
      "outputs": [],
      "source": [
        "from sklearn.metrics import classification_report\n",
        "import matplotlib.pyplot as plt\n",
        "import seaborn as sns"
      ]
    },
    {
      "cell_type": "code",
      "execution_count": 16,
      "id": "720fb31f-b71b-4765-ac94-acd0e98928fe",
      "metadata": {
        "id": "720fb31f-b71b-4765-ac94-acd0e98928fe"
      },
      "outputs": [],
      "source": [
        "# Plot F1-Scores by Class\n",
        "classification_report_str = \"\"\"\n",
        "                  precision    recall  f1-score   support\n",
        "\n",
        "           0       1.00      1.00      1.00        10\n",
        "           1       1.00      0.44      0.62         9\n",
        "           2       0.69      1.00      0.81        11\n",
        "\n",
        "    accuracy                           0.83        30\n",
        "   macro avg       0.90      0.81      0.81        30\n",
        "weighted avg       0.89      0.83      0.82        30\n",
        "\"\"\""
      ]
    },
    {
      "cell_type": "code",
      "execution_count": 17,
      "id": "4abeded0-3093-4636-af80-d0533988406f",
      "metadata": {
        "id": "4abeded0-3093-4636-af80-d0533988406f"
      },
      "outputs": [],
      "source": [
        "lines = classification_report_str.strip().split('\\n')\n",
        "class_names = [line.split()[0] for line in lines[2:-5]]  # Extract class names\n",
        "f1_scores = [float(line.split()[3]) for line in lines[2:-5]]"
      ]
    },
    {
      "cell_type": "markdown",
      "id": "K-tsdfdZVtj1",
      "metadata": {
        "id": "K-tsdfdZVtj1"
      },
      "source": [
        "# Plot Scatter Plot of Iris Dataset"
      ]
    },
    {
      "cell_type": "code",
      "execution_count": 18,
      "id": "b2bd0f37-feff-4317-a9af-a4beab01d57f",
      "metadata": {
        "colab": {
          "base_uri": "https://localhost:8080/",
          "height": 564
        },
        "id": "b2bd0f37-feff-4317-a9af-a4beab01d57f",
        "outputId": "efa26351-8a83-4549-8ac0-ee1431c5f9b2"
      },
      "outputs": [
        {
          "name": "stderr",
          "output_type": "stream",
          "text": [
            "C:\\Users\\Owner\\AppData\\Local\\Temp\\ipykernel_3164\\413812282.py:3: FutureWarning: \n",
            "\n",
            "Passing `palette` without assigning `hue` is deprecated and will be removed in v0.14.0. Assign the `y` variable to `hue` and set `legend=False` for the same effect.\n",
            "\n",
            "  sns.barplot(x=f1_scores, y=class_names, palette='viridis')\n"
          ]
        },
        {
          "data": {
            "image/png": "[encoded data removed]",
            "text/plain": [
              "<Figure size 720x432 with 1 Axes>"
            ]
          },
          "metadata": {
            "needs_background": "light"
          },
          "output_type": "display_data"
        }
      ],
      "source": [
        "#Creates a bar plot visualizing\n",
        "plt.figure(figsize=(10, 6))\n",
        "sns.barplot(x=f1_scores, y=class_names, palette='viridis')\n",
        "plt.xlabel('F1-Score')\n",
        "plt.ylabel('Class Name')\n",
        "plt.title('F1-Scores by Class')\n",
        "plt.xlim(0, 1)  # Adjust the x-axis limits if necessary\n",
        "plt.show()"
      ]
    },
    {
      "cell_type": "code",
      "execution_count": 19,
      "id": "360e0e86-d744-46fb-8a76-f6168b152896",
      "metadata": {
        "id": "360e0e86-d744-46fb-8a76-f6168b152896"
      },
      "outputs": [],
      "source": [
        "import matplotlib.pyplot as plt\n",
        "from sklearn.datasets import load_iris"
      ]
    },
    {
      "cell_type": "code",
      "execution_count": 20,
      "id": "f7bd119e-81dd-47e4-8cb8-89813d0f0d0b",
      "metadata": {
        "id": "f7bd119e-81dd-47e4-8cb8-89813d0f0d0b"
      },
      "outputs": [],
      "source": [
        "data = load_iris()\n",
        "X = data.data\n",
        "y = data.target"
      ]
    },
    {
      "cell_type": "code",
      "execution_count": 21,
      "id": "792490ff-14d1-4907-94f7-98aab775dc40",
      "metadata": {
        "id": "792490ff-14d1-4907-94f7-98aab775dc40"
      },
      "outputs": [],
      "source": [
        "feature1 = 0  # Index of the first feature (change as needed)\n",
        "feature2 = 1"
      ]
    },
    {
      "cell_type": "code",
      "execution_count": 22,
      "id": "3f240afd-bad2-444d-b537-87bd2a650212",
      "metadata": {
        "id": "3f240afd-bad2-444d-b537-87bd2a650212"
      },
      "outputs": [],
      "source": [
        "class_labels = ['Class 0', 'Class 1', 'Class 2']\n",
        "colors = ['blue', 'red', 'green']"
      ]
    },
    {
      "cell_type": "code",
      "execution_count": 23,
      "id": "5939258a-0fae-4741-aafb-cfb91673b467",
      "metadata": {
        "colab": {
          "base_uri": "https://localhost:8080/",
          "height": 564
        },
        "id": "5939258a-0fae-4741-aafb-cfb91673b467",
        "outputId": "b1487515-c157-45da-f94b-06ea28ddd078"
      },
      "outputs": [
        {
          "data": {
            "image/png": "[encoded data removed]",
            "text/plain": [
              "<Figure size 576x432 with 1 Axes>"
            ]
          },
          "metadata": {
            "needs_background": "light"
          },
          "output_type": "display_data"
        }
      ],
      "source": [
        "#: Visualizes a scatter plot using the first two features of the Iris dataset\n",
        "plt.figure(figsize=(8, 6))\n",
        "\n",
        "for i in range(len(class_labels)):\n",
        "    plt.scatter(X[y == i, feature1], X[y == i, feature2], label=class_labels[i], c=colors[i], marker='o')\n",
        "\n",
        "plt.xlabel(data.feature_names[feature1])\n",
        "plt.ylabel(data.feature_names[feature2])\n",
        "plt.title(f'Scatter Plot of Iris Dataset ({data.feature_names[feature1]} vs. {data.feature_names[feature2]})')\n",
        "plt.legend()\n",
        "plt.show()"
      ]
    }
  ],
  "metadata": {
    "colab": {
      "provenance": []
    },
    "kernelspec": {
      "display_name": "Python 3 (ipykernel)",
      "language": "python",
      "name": "python3"
    },
    "language_info": {
      "codemirror_mode": {
        "name": "ipython",
        "version": 3
      },
      "file_extension": ".py",
      "mimetype": "text/x-python",
      "name": "python",
      "nbconvert_exporter": "python",
      "pygments_lexer": "ipython3",
      "version": "3.10.4"
    }
  },
  "nbformat": 4,
  "nbformat_minor": 5
}
