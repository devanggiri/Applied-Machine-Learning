{
  "cells": [
    {
      "cell_type": "markdown",
      "metadata": {
        "id": "GVaCttKOcwBz"
      },
      "source": [
        "# Passive Reinforcement Learning"
      ]
    },
    {
      "cell_type": "code",
      "execution_count": 1,
      "metadata": {
        "colab": {
          "base_uri": "https://localhost:8080/"
        },
        "id": "od5WG_ALjsin",
        "outputId": "40993703-6841-4659-cf98-874e65ab713c"
      },
      "outputs": [
        {
          "name": "stdout",
          "output_type": "stream",
          "text": [
            "Iteration 1:\n",
            "A . . \n",
            ". X . \n",
            ". . . \n",
            "Current state: (0, 0)\n",
            "Iteration 2:\n",
            ". . . \n",
            "A X . \n",
            ". . . \n",
            "Current state: (0, 1)\n",
            "Iteration 3:\n",
            ". . . \n",
            ". X . \n",
            "A . . \n",
            "Current state: (0, 2)\n",
            "Iteration 4:\n",
            ". . . \n",
            ". X . \n",
            ". A . \n",
            "Current state: (1, 2)\n",
            "Iteration 5:\n",
            ". . . \n",
            ". X . \n",
            ". . A \n",
            "Current state: (2, 2)\n",
            "Passive RL reached the goal!\n"
          ]
        }
      ],
      "source": [
        "import random\n",
        "\n",
        "# Define the environment\n",
        "grid_size = 3\n",
        "num_actions = 4\n",
        "num_states = grid_size * grid_size\n",
        "obstacles = [(1, 1)]\n",
        "\n",
        "# Initialize Q-values\n",
        "Q = {(x, y): [0] * num_actions for x in range(grid_size) for y in range(grid_size)}\n",
        "\n",
        "# Function to visualize the grid\n",
        "def visualize_grid(agent_state):\n",
        "    for y in range(grid_size):\n",
        "        for x in range(grid_size):\n",
        "            if (x, y) == agent_state:\n",
        "                print(\"A\", end=\" \")  # Represent the agent with 'A'\n",
        "            elif (x, y) in obstacles:\n",
        "                print(\"X\", end=\" \")  # Represent obstacles with 'X'\n",
        "            else:\n",
        "                print(\".\", end=\" \")  # Empty space\n",
        "        print()\n",
        "\n",
        "# Passive Reinforcement Learning with Output\n",
        "def passive_rl_with_output():\n",
        "    state = (0, 0)\n",
        "\n",
        "    def policy():\n",
        "        return random.choice(range(num_actions))\n",
        "\n",
        "    iteration = 0\n",
        "    while state != (grid_size - 1, grid_size - 1):\n",
        "        action = policy()\n",
        "\n",
        "        # Simulate environment transition\n",
        "        next_x, next_y = state\n",
        "        if action == 0:  # Up\n",
        "            next_y = max(0, next_y - 1)\n",
        "        elif action == 1:  # Down\n",
        "            next_y = min(grid_size - 1, next_y + 1)\n",
        "        elif action == 2:  # Left\n",
        "            next_x = max(0, next_x - 1)\n",
        "        elif action == 3:  # Right\n",
        "            next_x = min(grid_size - 1, next_x + 1)\n",
        "\n",
        "        # Check for obstacles\n",
        "        if (next_x, next_y) not in obstacles:\n",
        "            state = (next_x, next_y)\n",
        "\n",
        "        # Visualize the grid\n",
        "        print(f\"Iteration {iteration + 1}:\")\n",
        "        visualize_grid(state)\n",
        "\n",
        "        # Print agent's state\n",
        "        print(f\"Current state: {state}\")\n",
        "\n",
        "        iteration += 1\n",
        "\n",
        "    print(\"Passive RL reached the goal!\")\n",
        "\n",
        "# Run Passive RL with Output\n",
        "passive_rl_with_output()\n"
      ]
    }
  ],
  "metadata": {
    "colab": {
      "provenance": []
    },
    "kernelspec": {
      "display_name": "Python 3",
      "name": "python3"
    },
    "language_info": {
      "codemirror_mode": {
        "name": "ipython",
        "version": 3
      },
      "file_extension": ".py",
      "mimetype": "text/x-python",
      "name": "python",
      "nbconvert_exporter": "python",
      "pygments_lexer": "ipython3",
      "version": "3.10.4"
    }
  },
  "nbformat": 4,
  "nbformat_minor": 0
}
